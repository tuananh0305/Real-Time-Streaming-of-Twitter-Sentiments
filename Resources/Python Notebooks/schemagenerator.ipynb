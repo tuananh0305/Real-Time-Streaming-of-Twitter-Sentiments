{
 "cells": [
  {
   "cell_type": "code",
   "execution_count": 1,
   "id": "adb570d5",
   "metadata": {
    "id": "adb570d5"
   },
   "outputs": [],
   "source": [
    "from pyspark.sql import SparkSession\n",
    "from pyspark.sql.avro.functions import from_avro, to_avro\n",
    "import pandas as pd\n",
    "import json"
   ]
  },
  {
   "cell_type": "code",
   "execution_count": 2,
   "id": "7dbd4cd0",
   "metadata": {
    "id": "7dbd4cd0"
   },
   "outputs": [
    {
     "name": "stdout",
     "output_type": "stream",
     "text": [
      "22/10/08 14:49:05 WARN Utils: Your hostname, Daos-MacBook-Air.local resolves to a loopback address: 127.0.0.1; using 192.168.182.169 instead (on interface en0)\n",
      "22/10/08 14:49:05 WARN Utils: Set SPARK_LOCAL_IP if you need to bind to another address\n",
      ":: loading settings :: url = jar:file:/opt/homebrew/lib/python3.10/site-packages/pyspark/jars/ivy-2.5.0.jar!/org/apache/ivy/core/settings/ivysettings.xml\n"
     ]
    },
    {
     "name": "stderr",
     "output_type": "stream",
     "text": [
      "Ivy Default Cache set to: /Users/daoanhtuan/.ivy2/cache\n",
      "The jars for the packages stored in: /Users/daoanhtuan/.ivy2/jars\n",
      "org.apache.spark#spark-sql-kafka-0-10_2.12 added as a dependency\n",
      "org.apache.spark#spark-avro_2.12 added as a dependency\n",
      "org.mongodb.spark#mongo-spark-connector_2.12 added as a dependency\n",
      ":: resolving dependencies :: org.apache.spark#spark-submit-parent-bfd73497-a907-4c22-98f1-f72161bcde60;1.0\n",
      "\tconfs: [default]\n",
      "\tfound org.apache.spark#spark-sql-kafka-0-10_2.12;3.0.0 in central\n",
      "\tfound org.apache.spark#spark-token-provider-kafka-0-10_2.12;3.0.0 in central\n",
      "\tfound org.apache.kafka#kafka-clients;2.4.1 in central\n",
      "\tfound com.github.luben#zstd-jni;1.4.4-3 in central\n",
      "\tfound org.lz4#lz4-java;1.7.1 in central\n",
      "\tfound org.xerial.snappy#snappy-java;1.1.7.5 in central\n",
      "\tfound org.slf4j#slf4j-api;1.7.30 in central\n",
      "\tfound org.spark-project.spark#unused;1.0.0 in central\n",
      "\tfound org.apache.commons#commons-pool2;2.6.2 in central\n",
      "\tfound org.apache.spark#spark-avro_2.12;3.0.0 in central\n",
      "\tfound org.mongodb.spark#mongo-spark-connector_2.12;3.0.0 in central\n",
      "\tfound org.mongodb#mongodb-driver-sync;4.0.5 in central\n",
      "\tfound org.mongodb#bson;4.0.5 in central\n",
      "\tfound org.mongodb#mongodb-driver-core;4.0.5 in central\n",
      ":: resolution report :: resolve 917ms :: artifacts dl 39ms\n",
      "\t:: modules in use:\n",
      "\tcom.github.luben#zstd-jni;1.4.4-3 from central in [default]\n",
      "\torg.apache.commons#commons-pool2;2.6.2 from central in [default]\n",
      "\torg.apache.kafka#kafka-clients;2.4.1 from central in [default]\n",
      "\torg.apache.spark#spark-avro_2.12;3.0.0 from central in [default]\n",
      "\torg.apache.spark#spark-sql-kafka-0-10_2.12;3.0.0 from central in [default]\n",
      "\torg.apache.spark#spark-token-provider-kafka-0-10_2.12;3.0.0 from central in [default]\n",
      "\torg.lz4#lz4-java;1.7.1 from central in [default]\n",
      "\torg.mongodb#bson;4.0.5 from central in [default]\n",
      "\torg.mongodb#mongodb-driver-core;4.0.5 from central in [default]\n",
      "\torg.mongodb#mongodb-driver-sync;4.0.5 from central in [default]\n",
      "\torg.mongodb.spark#mongo-spark-connector_2.12;3.0.0 from central in [default]\n",
      "\torg.slf4j#slf4j-api;1.7.30 from central in [default]\n",
      "\torg.spark-project.spark#unused;1.0.0 from central in [default]\n",
      "\torg.xerial.snappy#snappy-java;1.1.7.5 from central in [default]\n",
      "\t---------------------------------------------------------------------\n",
      "\t|                  |            modules            ||   artifacts   |\n",
      "\t|       conf       | number| search|dwnlded|evicted|| number|dwnlded|\n",
      "\t---------------------------------------------------------------------\n",
      "\t|      default     |   14  |   0   |   0   |   0   ||   14  |   0   |\n",
      "\t---------------------------------------------------------------------\n",
      ":: retrieving :: org.apache.spark#spark-submit-parent-bfd73497-a907-4c22-98f1-f72161bcde60\n",
      "\tconfs: [default]\n",
      "\t0 artifacts copied, 14 already retrieved (0kB/19ms)\n"
     ]
    },
    {
     "name": "stdout",
     "output_type": "stream",
     "text": [
      "22/10/08 14:49:07 WARN NativeCodeLoader: Unable to load native-hadoop library for your platform... using builtin-java classes where applicable\n"
     ]
    },
    {
     "name": "stderr",
     "output_type": "stream",
     "text": [
      "Setting default log level to \"WARN\".\n",
      "To adjust logging level use sc.setLogLevel(newLevel). For SparkR, use setLogLevel(newLevel).\n"
     ]
    }
   ],
   "source": [
    "#Spark Session creation configured to interact with Kafka\n",
    "spark = SparkSession.builder.appName(\"pyspark-notebook\").\\\n",
    "config(\"spark.jars.packages\",\"org.apache.spark:spark-sql-kafka-0-10_2.12:3.0.0,org.apache.spark:spark-avro_2.12:3.0.0,org.mongodb.spark:mongo-spark-connector_2.12:3.0.0\").\\\n",
    "getOrCreate()"
   ]
  },
  {
   "cell_type": "code",
   "execution_count": 8,
   "id": "67bc7b14",
   "metadata": {
    "id": "67bc7b14"
   },
   "outputs": [],
   "source": [
    "#Read data from Kafka\n",
    "data = spark\\\n",
    "  .readStream\\\n",
    "  .format(\"kafka\")\\\n",
    "  .option(\"kafka.bootstrap.servers\", \"ec2-35-180-61-109.eu-west-3.compute.amazonaws.com:9092\")\\\n",
    "  .option(\"subscribe\", \"twitter_demo\")\\\n",
    "  .option(\"startingOffsets\", \"earliest\")\\\n",
    "  .load()\\\n",
    "  .selectExpr(\"CAST(key AS STRING)\", \"CAST(value AS STRING)\").alias(\"data\").select(\"data.value\")"
   ]
  },
  {
   "cell_type": "code",
   "execution_count": null,
   "id": "efbd1206",
   "metadata": {
    "id": "efbd1206",
    "outputId": "b547127a-ac16-4ab8-ba86-6a0fce9eed0a"
   },
   "outputs": [],
   "source": [
    "#write streaming data as a text file\n",
    "data.\\\n",
    "writeStream.\\\n",
    "format(\"text\").\\\n",
    "option(\"checkpointLocation\", \"checkpoint/schema\").\\\n",
    "option(\"format\", \"text\").\\\n",
    "option(\"path\", \"schema/in\").\\\n",
    "outputMode(\"append\").\\\n",
    "start()"
   ]
  },
  {
   "cell_type": "code",
   "execution_count": null,
   "id": "e3e0391f",
   "metadata": {
    "id": "e3e0391f"
   },
   "outputs": [],
   "source": [
    "#extract schema by reading the file written above\n",
    "smallBatchSchema = spark.read.json(\"schema/in/*.txt\").schema"
   ]
  },
  {
   "cell_type": "code",
   "execution_count": null,
   "id": "b67a64c3",
   "metadata": {
    "id": "b67a64c3"
   },
   "outputs": [],
   "source": [
    "#write schema as JSON file to schema folder\n",
    "with open(\"schema/out/tweet_schema.json\", \"w\") as f:\n",
    "    json.dump(smallBatchSchema.jsonValue(), f)"
   ]
  },
  {
   "cell_type": "code",
   "execution_count": null,
   "id": "45cfc242",
   "metadata": {},
   "outputs": [],
   "source": []
  }
 ],
 "metadata": {
  "colab": {
   "name": "schemagenerator.ipynb",
   "provenance": []
  },
  "kernelspec": {
   "display_name": "Python 3 (ipykernel)",
   "language": "python",
   "name": "python3"
  },
  "language_info": {
   "codemirror_mode": {
    "name": "ipython",
    "version": 3
   },
   "file_extension": ".py",
   "mimetype": "text/x-python",
   "name": "python",
   "nbconvert_exporter": "python",
   "pygments_lexer": "ipython3",
   "version": "3.10.6"
  }
 },
 "nbformat": 4,
 "nbformat_minor": 5
}
